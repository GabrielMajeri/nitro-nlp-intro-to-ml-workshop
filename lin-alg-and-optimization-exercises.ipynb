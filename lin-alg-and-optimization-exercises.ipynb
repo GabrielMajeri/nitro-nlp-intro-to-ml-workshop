{
  "nbformat": 4,
  "nbformat_minor": 0,
  "metadata": {
    "colab": {
      "provenance": [],
      "collapsed_sections": [
        "DIJvzorTHIeT",
        "ajYBllX9HP9f",
        "GgKyp3pAHRN7",
        "JuaAgicGHUJ-",
        "71riEy60HXsG",
        "Yo_HzhIOHaUg",
        "oFvds5NKHdKB"
      ]
    },
    "kernelspec": {
      "name": "python3",
      "display_name": "Python 3"
    },
    "language_info": {
      "name": "python"
    }
  },
  "cells": [
    {
      "cell_type": "markdown",
      "source": [
        "# Exerciții Algebră Liniară și Tehnici de Optimizare\n",
        "\n",
        "Acest Jupyter Notebook conține o serie de exerciții introductive care vă vor ajuta să vă consolidați cunoștințele de algebră liniară, NumPy și optimizare."
      ],
      "metadata": {
        "id": "2o7hHnsLzcol"
      }
    },
    {
      "cell_type": "code",
      "source": [
        "import numpy as np"
      ],
      "metadata": {
        "id": "irOOcid-5uvi"
      },
      "execution_count": null,
      "outputs": []
    },
    {
      "cell_type": "markdown",
      "source": [
        "## I. Algebră Liniară"
      ],
      "metadata": {
        "id": "tsWxrdvrzmve"
      }
    },
    {
      "cell_type": "markdown",
      "source": [
        "### Produsul scalar"
      ],
      "metadata": {
        "id": "DIJvzorTHIeT"
      }
    },
    {
      "cell_type": "markdown",
      "source": [
        "Implementați funcția `dot_product`, care să conțină explicit o buclă `for`, prin care calculați produsul scalar a doi vectori,\n",
        "$$\n",
        "    v \\cdot w = \\sum_{i \\, = \\, 1}^{n} v_i w_i\n",
        "$$\n",
        "unde $v, w \\in \\mathbb{R}^n$."
      ],
      "metadata": {
        "id": "KpGlRcUJ48Id"
      }
    },
    {
      "cell_type": "code",
      "source": [
        "def dot_product(v, w):\n",
        "    ..."
      ],
      "metadata": {
        "id": "x9MGq57K47wx"
      },
      "execution_count": null,
      "outputs": []
    },
    {
      "cell_type": "code",
      "source": [
        "# Verificare\n",
        "assert dot_product([1, 2, 3], [2, 0, -1]) == -1\n",
        "assert dot_product([4, 2, 5], [2, 1, -2]) == 0"
      ],
      "metadata": {
        "id": "uO1MFW6w5sRu"
      },
      "execution_count": null,
      "outputs": []
    },
    {
      "cell_type": "markdown",
      "source": [
        "### Produsul scalar indus de o matrice simetrică și pozitiv definită"
      ],
      "metadata": {
        "id": "Cw_OyPpjHK2x"
      }
    },
    {
      "cell_type": "markdown",
      "source": [
        "Fiind dată o matrice $P \\in M_n (\\mathbb{R})$, definim o aplicație bilinară pe $\\mathbb{R}^n$ prin\n",
        "$$\n",
        "    (v, w)_{P} = w^{\\intercal} P v\n",
        "$$\n",
        "\n",
        "Se poate arăta că, dacă $P$ este simetrică ($A^{\\intercal} = A$) și pozitiv definită (toate valorile ei proprii sunt strict pozitive), atunci forma $(\\cdot, \\cdot)_{P}$ este un produs scalar.\n",
        "\n",
        "Implementați o funcție care să calculeze valoarea lui $(v, w)_{P}$. Puteți folosi metode/operatori din NumPy."
      ],
      "metadata": {
        "id": "6i_aAeKFF5Ww"
      }
    },
    {
      "cell_type": "code",
      "source": [
        "def P_dot_product(v, w, P):\n",
        "    ..."
      ],
      "metadata": {
        "id": "pHWVQcjpGoXX"
      },
      "execution_count": null,
      "outputs": []
    },
    {
      "cell_type": "markdown",
      "source": [
        "### Spațiul nul"
      ],
      "metadata": {
        "id": "ajYBllX9HP9f"
      }
    },
    {
      "cell_type": "markdown",
      "source": [
        "Fiind dată o matrice pătratică $A \\in M_n (\\mathbb{R})$, găsiți o cale de a determina spațiul nul (nucleul) acesteia,\n",
        "$$\n",
        "    \\ker(A) = \\{ \\, x \\in \\mathbb{R}^n \\; | \\; Ax = 0_{n} \\, \\}\n",
        "$$"
      ],
      "metadata": {
        "id": "iYyxiP1Z3722"
      }
    },
    {
      "cell_type": "code",
      "execution_count": null,
      "metadata": {
        "id": "srzB9Cw7zUjW"
      },
      "outputs": [],
      "source": [
        "A = np.array([\n",
        "    [1, 2, 3],\n",
        "    [4, 0, 1],\n",
        "    [0, 0, 0],\n",
        "])\n",
        "\n",
        "# ker A = ?"
      ]
    },
    {
      "cell_type": "markdown",
      "source": [
        "### Exponențiala matricială"
      ],
      "metadata": {
        "id": "GgKyp3pAHRN7"
      }
    },
    {
      "cell_type": "markdown",
      "source": [
        "Funcția exponențială este definită pentru valori reale prin șirul\n",
        "$$\n",
        "    e^x = \\sum_{k \\, = \\, 0}^{\\infty} \\frac{1}{k!} x^k\n",
        "$$\n",
        "\n",
        "În mod similar, exponențiala pentru matrici pătratice se poate defini prin\n",
        "$$\n",
        "    e^A = \\sum_{k \\, = \\, 0}^{\\infty} \\frac{1}{k!} A^k\n",
        "$$\n",
        "unde $A^0 = \\text{I}_n$.\n",
        "\n",
        "Implementați o funcție care să calculeze valoarea aproximativă a exponențialei matriceale, folosind un număr fixat de termeni ai șirului de mai sus."
      ],
      "metadata": {
        "id": "AhIsDmxD8zTm"
      }
    },
    {
      "cell_type": "code",
      "source": [
        "def matrix_exp(A, N):\n",
        "    ..."
      ],
      "metadata": {
        "id": "iAMrTLTm9brN"
      },
      "execution_count": null,
      "outputs": []
    },
    {
      "cell_type": "markdown",
      "source": [
        "### Formula lui Jacobi"
      ],
      "metadata": {
        "id": "JuaAgicGHUJ-"
      }
    },
    {
      "cell_type": "markdown",
      "source": [
        "Din [formula lui Jacobi](https://en.wikipedia.org/wiki/Jacobi%27s_formula) rezultă că\n",
        "$$\n",
        "    \\det\\left(e^A\\right) = e^{\\operatorname{tr}(A)}\n",
        "$$\n",
        "Verificați validitatea acestui rezultat pentru matricea de mai jos."
      ],
      "metadata": {
        "id": "_IplQeYG9etB"
      }
    },
    {
      "cell_type": "code",
      "source": [
        "A = np.array([\n",
        "    [1, 0, 3],\n",
        "    [4, 2, 1],\n",
        "    [3, 0, 4],\n",
        "])\n",
        "\n",
        "..."
      ],
      "metadata": {
        "id": "jlDjUpsr-Wo7"
      },
      "execution_count": null,
      "outputs": []
    },
    {
      "cell_type": "markdown",
      "source": [
        "## II. Tehnici de Optimizare"
      ],
      "metadata": {
        "id": "0yQWoa35zqrU"
      }
    },
    {
      "cell_type": "markdown",
      "source": [
        "### Metoda lui Newton"
      ],
      "metadata": {
        "id": "fVxSy30KHibh"
      }
    },
    {
      "cell_type": "markdown",
      "source": [
        "Pentru funcții care sunt cel puțin de două ori derivabile, și pentru care derivata a doua nu se anulează, putem folosi [metoda lui Newton](https://en.wikipedia.org/wiki/Newton%27s_method_in_optimization) pentru a le găsi minimele (locale).\n",
        "\n",
        "Pasul iterativ de optimizare este:\n",
        "$$\n",
        "    x_{k + 1} = x_{k} - \\frac{f'\\left(x_{k}\\right)}{f''\\left(x_{k}\\right)}\n",
        "$$\n",
        "unde $x_{k}$ reprezintă estimarea de la pasul precedent, $x_{k + 1}$ este noua estimare pentru minimul funcției, iar $f'$ și $f''$ reprezintă derivata și derivata a doua funcției $f$.\n",
        "\n",
        "Calculați și completați mai jos formulele pentru prima și a doua derivată a [funcției date](https://www.desmos.com/calculator/mifhxioowk), apoi implementați metoda Newton și folosiți-o pentru a găsi minimul funcției.\n",
        "\n",
        "**Bonus**: afișați grafic funcția și evoluția algoritmului folosind [matplotlib](https://matplotlib.org/)."
      ],
      "metadata": {
        "id": "LqlFjZGsHjpG"
      }
    },
    {
      "cell_type": "code",
      "source": [
        "def f(x):\n",
        "    return x^5 - 3 * x^3 + x^2 + 0.5 * x - 1"
      ],
      "metadata": {
        "id": "YZUAlD6tIcCk"
      },
      "execution_count": null,
      "outputs": []
    },
    {
      "cell_type": "code",
      "source": [
        "def f_first_derivative(x):\n",
        "    ...\n",
        "\n",
        "def f_second_derivative(x):\n",
        "    ..."
      ],
      "metadata": {
        "id": "vRs_4tjDJhYi"
      },
      "execution_count": null,
      "outputs": []
    },
    {
      "cell_type": "code",
      "source": [
        "def newtons_method(x0, max_steps):\n",
        "    ..."
      ],
      "metadata": {
        "id": "ZZuM70c8I012"
      },
      "execution_count": null,
      "outputs": []
    },
    {
      "cell_type": "markdown",
      "source": [
        "### $p$-norme"
      ],
      "metadata": {
        "id": "71riEy60HXsG"
      }
    },
    {
      "cell_type": "markdown",
      "source": [
        "Implementați o funcție care calculează distanța dintre doi vectori în [norma $p$](<https://en.wikipedia.org/wiki/Norm_(mathematics)#p-norm>),\n",
        "$$\n",
        "    d_p (v, w) = \\left[\\sum_{i \\, = \\, 1}^{n} (v_i - w_i)^{p}\\right]^{1/p}\n",
        "$$"
      ],
      "metadata": {
        "id": "xG77LfuaB7WO"
      }
    },
    {
      "cell_type": "code",
      "source": [
        "def p_distance(v, w):\n",
        "    ..."
      ],
      "metadata": {
        "id": "82yPfbmnztBS"
      },
      "execution_count": null,
      "outputs": []
    },
    {
      "cell_type": "markdown",
      "source": [
        "### Centrul de greutate"
      ],
      "metadata": {
        "id": "Yo_HzhIOHaUg"
      }
    },
    {
      "cell_type": "markdown",
      "source": [
        "Pentru o mulțime de puncte $P$, definim _centrul de greutate_ sau _centroidul_ mulțimii prin\n",
        "$$\n",
        "    \\mu = \\frac{1}{|P|} \\sum_{x \\, \\in \\, P} x\n",
        "$$\n",
        "\n",
        "Altfel spus, fiecare coordonată a centrului de greutate este dată de media aritmetică a valorilor acelei coordonate, la nivelul tuturor punctelor din mulțime.\n",
        "\n",
        "Implementați o funcție care să calculeze centroidul unei mulțimi de puncte, date sub formă de listă de vectori (toți având aceeași dimensiune / același număr de coordonate)."
      ],
      "metadata": {
        "id": "8z0bEL9REawU"
      }
    },
    {
      "cell_type": "code",
      "source": [
        "def centroid(vectors):\n",
        "    ..."
      ],
      "metadata": {
        "id": "FloWsewdFDna"
      },
      "execution_count": null,
      "outputs": []
    },
    {
      "cell_type": "markdown",
      "source": [
        "### Inerția"
      ],
      "metadata": {
        "id": "oFvds5NKHdKB"
      }
    },
    {
      "cell_type": "markdown",
      "source": [
        "O abordare uzuală în învățarea nesupervizată este clusterizarea datelor de intrare, pentru a le grupa în mulțimi de puncte „apropiate”.\n",
        "\n",
        "Un mod de a măsura cât de apropiate sunt punctele din fiecare cluster este de a calcula _inerția_ clusterizării,\n",
        "$$\n",
        "    \\text{Inertia} = \\sum_{i \\, = \\, 1}^{N} \\sum_{x \\, \\in \\, C_i} \\left[d_2 (x, \\mu_i)\\right]^2\n",
        "$$\n",
        "unde $C_i$ reprezintă al celui de al $i$-ulea cluster (din totalul de $N$ clustere) iar $\\mu_i$ reprezintă _centrul de greutate_ al clusterului $i$,\n",
        "$$\n",
        "    \\mu_i = \\frac{1}{\\left|C_i\\right|} \\sum_{x \\, \\in \\, C_i} x\n",
        "$$\n",
        "\n",
        "Implementați o funcție care calculează inerția unei mulțimi de clustere, dată sub forma unei liste de liste de vectori (toți vectorii au aceeași dimensiune, dar clusterele pot avea lungimi diferite)."
      ],
      "metadata": {
        "id": "ph_XEmY2Cv4t"
      }
    },
    {
      "cell_type": "code",
      "source": [
        "def compute_inertia(clusters):\n",
        "    ..."
      ],
      "metadata": {
        "id": "Eygu2S0rCQd1"
      },
      "execution_count": null,
      "outputs": []
    }
  ]
}